{
 "cells": [
  {
   "cell_type": "markdown",
   "metadata": {},
   "source": [
    "Given an integer x, return true if x is palindrome integer.\n",
    "\n",
    "An integer is a palindrome when it reads the same backward as forward.\n",
    "\n",
    "For example, 121 is a palindrome while 123 is not.\n",
    " \n",
    "\n",
    "Example 1:\n",
    "\n",
    "Input: x = 121\n",
    "Output: true\n",
    "Explanation: 121 reads as 121 from left to right and from right to left.\n",
    "Example 2:\n",
    "\n",
    "Input: x = -121\n",
    "Output: false\n",
    "Explanation: From left to right, it reads -121. From right to left, it becomes 121-. Therefore it is not a palindrome.\n",
    "Example 3:\n",
    "\n",
    "Input: x = 10\n",
    "Output: false\n",
    "Explanation: Reads 01 from right to left. Therefore it is not a palindrome."
   ]
  },
  {
   "cell_type": "markdown",
   "metadata": {},
   "source": [
    "public class Solution {\n",
    "    public bool IsPalindrome(int x) {\n",
    "        // Special cases:\n",
    "        // As discussed above, when x < 0, x is not a palindrome.\n",
    "        // Also if the last digit of the number is 0, in order to be a palindrome,\n",
    "        // the first digit of the number also needs to be 0.\n",
    "        // Only 0 satisfy this property.\n",
    "        if(x < 0 || (x % 10 == 0 && x != 0)) {\n",
    "            return false;\n",
    "        }\n",
    "\n",
    "        int revertedNumber = 0;\n",
    "        while(x > revertedNumber) {\n",
    "            revertedNumber = revertedNumber * 10 + x % 10;\n",
    "            x /= 10;\n",
    "        }\n",
    "\n",
    "        // When the length is an odd number, we can get rid of the middle digit by revertedNumber/10\n",
    "        // For example when the input is 12321, at the end of the while loop we get x = 12, revertedNumber = 123,\n",
    "        // since the middle digit doesn't matter in palidrome(it will always equal to itself), we can simply get rid of it.\n",
    "        return x == revertedNumber || x == revertedNumber/10;\n",
    "    }\n",
    "}"
   ]
  },
  {
   "cell_type": "code",
   "execution_count": 13,
   "metadata": {},
   "outputs": [
    {
     "name": "stdout",
     "output_type": "stream",
     "text": [
      "True\n",
      "False\n",
      "True\n",
      "True\n",
      "False\n"
     ]
    }
   ],
   "source": [
    "x = 121\n",
    "class SpecialNumber:\n",
    "    def __init__(self):\n",
    "        pass\n",
    "    #def __init__(self,x):\n",
    "    #    self.x = x\n",
    "    def isPalindrome(self,x):\n",
    "        if x < 0 or (x % 10==0 and x!=0):\n",
    "            return False\n",
    "        k = 0\n",
    "        while (k<x):\n",
    "            k = k*10 +  x % 10\n",
    "            if x == k or (x // 10) == k:\n",
    "                return True\n",
    "            x = x // 10         \n",
    "        else:\n",
    "            return False\n",
    "\n",
    "sn = SpecialNumber()\n",
    "print(sn.isPalindrome(x))\n",
    "\n",
    "x = 11234\n",
    "print(sn.isPalindrome(x))\n",
    "\n",
    "x = 12321\n",
    "print(sn.isPalindrome(x))\n",
    "\n",
    "x = 1234321\n",
    "print(sn.isPalindrome(x))\n",
    "\n",
    "x = -14\n",
    "print(sn.isPalindrome(x))\n",
    "\n",
    "x = 230\n",
    "print(sn.isPalindrome(x))"
   ]
  }
 ],
 "metadata": {
  "kernelspec": {
   "display_name": "Python 3.9.12 ('base')",
   "language": "python",
   "name": "python3"
  },
  "language_info": {
   "codemirror_mode": {
    "name": "ipython",
    "version": 3
   },
   "file_extension": ".py",
   "mimetype": "text/x-python",
   "name": "python",
   "nbconvert_exporter": "python",
   "pygments_lexer": "ipython3",
   "version": "3.9.12"
  },
  "orig_nbformat": 4,
  "vscode": {
   "interpreter": {
    "hash": "e4cce46d6be9934fbd27f9ca0432556941ea5bdf741d4f4d64c6cd7f8dfa8fba"
   }
  }
 },
 "nbformat": 4,
 "nbformat_minor": 2
}
